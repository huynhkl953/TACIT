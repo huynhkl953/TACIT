{
 "cells": [
  {
   "cell_type": "code",
   "execution_count": 1,
   "id": "b0b2747a",
   "metadata": {},
   "outputs": [
    {
     "name": "stderr",
     "output_type": "stream",
     "text": [
      "/Users/khoahuynh/anaconda3/lib/python3.11/site-packages/anndata/_core/anndata.py:121: ImplicitModificationWarning: Transforming to str index.\n",
      "  warnings.warn(\"Transforming to str index.\", ImplicitModificationWarning)\n",
      "OMP: Info #276: omp_set_nested routine deprecated, please use omp_set_max_active_levels instead.\n"
     ]
    },
    {
     "name": "stdout",
     "output_type": "stream",
     "text": [
      "0         21\n",
      "1          9\n",
      "2          7\n",
      "3         11\n",
      "4          9\n",
      "          ..\n",
      "235514     3\n",
      "235515     0\n",
      "235516     0\n",
      "235517    11\n",
      "235518    27\n",
      "Name: leiden, Length: 235519, dtype: category\n",
      "Categories (33, object): ['0', '1', '2', '3', ..., '29', '30', '31', '32']\n"
     ]
    }
   ],
   "source": [
    "import pandas as pd\n",
    "import numpy as np\n",
    "import scanpy as sc\n",
    "\n",
    "# Read the data\n",
    "data = pd.read_csv(\"/Users/khoahuynh/Library/Mobile Documents/com~apple~CloudDocs/Documents/MERSCOPE/CompareTACIT/CRC_DataSet.csv\")\n",
    "signature = pd.read_csv(\"~/Downloads/test_crc_signature.csv\")\n",
    "\n",
    "# Process the data\n",
    "data = data.dropna(subset=['CD31 - vasculature:Cyc_19_ch_3'])\n",
    "signature.columns.values[0] = \"cell_type\"\n",
    "signature = signature.fillna(0)\n",
    "\n",
    "# Intensity data (A_ij)\n",
    "data_anb = data[signature.columns[1:]]\n",
    "orig_values = data_anb.values.T\n",
    "orig_values_metadata = pd.DataFrame({\"CellID\": range(1, data_anb.shape[0] + 1)})\n",
    "\n",
    "# Create AnnData object\n",
    "adata = sc.AnnData(X=orig_values.T)\n",
    "adata.obs = orig_values_metadata\n",
    "\n",
    "# Normalization and scaling\n",
    "sc.pp.normalize_per_cell(adata, counts_per_cell_after=1e4)\n",
    "sc.pp.log1p(adata)\n",
    "sc.pp.highly_variable_genes(adata, n_top_genes=500)\n",
    "sc.pp.scale(adata, max_value=10)\n",
    "\n",
    "# PCA\n",
    "sc.tl.pca(adata, n_comps=30)\n",
    "\n",
    "# UMAP\n",
    "sc.pp.neighbors(adata, n_pcs=20)\n",
    "sc.tl.umap(adata, n_components=30)\n",
    "\n",
    "# Leiden clustering\n",
    "sc.tl.leiden(adata, resolution=1.0)  # Adjust resolution as needed\n",
    "\n",
    "# Print the results\n",
    "print(adata.obs['leiden'])\n",
    "\n",
    "# Save results\n",
    "#adata.write(\"/path/to/save/processed_data.h5ad\")\n"
   ]
  },
  {
   "cell_type": "code",
   "execution_count": 2,
   "id": "64001d50",
   "metadata": {},
   "outputs": [],
   "source": [
    "adata.obs[['leiden']].to_csv(\"leiden_clustering_results_CRC.csv\", index=True)"
   ]
  },
  {
   "cell_type": "code",
   "execution_count": 1,
   "id": "ddc039b3",
   "metadata": {},
   "outputs": [
    {
     "name": "stderr",
     "output_type": "stream",
     "text": [
      "/Users/khoahuynh/anaconda3/lib/python3.11/site-packages/anndata/_core/anndata.py:121: ImplicitModificationWarning: Transforming to str index.\n",
      "  warnings.warn(\"Transforming to str index.\", ImplicitModificationWarning)\n",
      "OMP: Info #276: omp_set_nested routine deprecated, please use omp_set_max_active_levels instead.\n"
     ]
    },
    {
     "name": "stdout",
     "output_type": "stream",
     "text": [
      "0         2\n",
      "1         5\n",
      "2         0\n",
      "3         5\n",
      "4         2\n",
      "         ..\n",
      "874763    9\n",
      "874764    7\n",
      "874765    1\n",
      "874766    7\n",
      "874767    1\n",
      "Name: leiden, Length: 874598, dtype: category\n",
      "Categories (19, object): ['0', '1', '2', '3', ..., '15', '16', '17', '18']\n"
     ]
    }
   ],
   "source": [
    "import pandas as pd\n",
    "import numpy as np\n",
    "import scanpy as sc\n",
    "\n",
    "# Read the data\n",
    "data = pd.read_csv(\"/Users/khoahuynh/Library/Mobile Documents/com~apple~CloudDocs/Documents/Compare_TACIT/MERFISH/Moffitt_and_Bambah-Mukku_et_al_merfish_all_cells.csv\")\n",
    "signature = pd.read_csv(\"/Users/khoahuynh/Library/Mobile Documents/com~apple~CloudDocs/Documents/Compare_TACIT/MERFISH/Signature_MERFISH_v3.csv\")\n",
    "\n",
    "# Process the data\n",
    "data = data[data['Cell_class'] != 'Ambiguous']\n",
    "signature.columns.values[0] = \"cell_type\"\n",
    "signature = signature.fillna(0)\n",
    "\n",
    "# Intensity data (A_ij)\n",
    "data_anb = data[signature.columns[1:]]\n",
    "orig_values = data_anb.values.T\n",
    "orig_values_metadata = pd.DataFrame({\"CellID\": range(1, data_anb.shape[0] + 1)})\n",
    "\n",
    "# Create AnnData object\n",
    "adata = sc.AnnData(X=orig_values.T)\n",
    "adata.obs = orig_values_metadata\n",
    "\n",
    "# Normalization and scaling\n",
    "sc.pp.normalize_per_cell(adata, counts_per_cell_after=1e4)\n",
    "sc.pp.log1p(adata)\n",
    "sc.pp.highly_variable_genes(adata, n_top_genes=500)\n",
    "sc.pp.scale(adata, max_value=10)\n",
    "\n",
    "# PCA\n",
    "sc.tl.pca(adata, n_comps=30)\n",
    "\n",
    "# UMAP\n",
    "sc.pp.neighbors(adata, n_pcs=20)\n",
    "sc.tl.umap(adata, n_components=30)\n",
    "\n",
    "# Leiden clustering\n",
    "sc.tl.leiden(adata)  # Adjust resolution as needed\n",
    "\n",
    "# Print the results\n",
    "print(adata.obs['leiden'])\n",
    "\n",
    "# Save results\n",
    "#adata.write(\"/path/to/save/processed_data.h5ad\")"
   ]
  },
  {
   "cell_type": "code",
   "execution_count": 2,
   "id": "49c3d5f2",
   "metadata": {},
   "outputs": [],
   "source": [
    "adata.obs[['leiden']].to_csv(\"leiden_clustering_results_MERFISH.csv\", index=True)"
   ]
  },
  {
   "cell_type": "code",
   "execution_count": null,
   "id": "b3091e26",
   "metadata": {},
   "outputs": [],
   "source": []
  }
 ],
 "metadata": {
  "kernelspec": {
   "display_name": "Python 3 (ipykernel)",
   "language": "python",
   "name": "python3"
  },
  "language_info": {
   "codemirror_mode": {
    "name": "ipython",
    "version": 3
   },
   "file_extension": ".py",
   "mimetype": "text/x-python",
   "name": "python",
   "nbconvert_exporter": "python",
   "pygments_lexer": "ipython3",
   "version": "3.11.7"
  }
 },
 "nbformat": 4,
 "nbformat_minor": 5
}
